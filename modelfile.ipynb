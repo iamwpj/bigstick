{
 "cells": [
  {
   "cell_type": "markdown",
   "metadata": {},
   "source": [
    "# Managing the Modelfile"
   ]
  },
  {
   "cell_type": "code",
   "execution_count": 2,
   "metadata": {},
   "outputs": [],
   "source": [
    "# Preflight, load\n",
    "import src.bigstick\n",
    "import src.config as c\n",
    "import json\n",
    "\n",
    "base_url = \"http://localhost:11434\"\n",
    "\n",
    "llm = src.bigstick.LoadedModel(base_url=base_url)\n",
    "api = src.bigstick.GenericAPI"
   ]
  },
  {
   "cell_type": "markdown",
   "metadata": {},
   "source": [
    "## Gathering existing file"
   ]
  },
  {
   "cell_type": "code",
   "execution_count": null,
   "metadata": {},
   "outputs": [],
   "source": [
    "resp = api(\n",
    "    verb='POST',url=f\"{base_url}/api/show\", data={\"name\":c.MODEL}\n",
    ")\n",
    "with open('results/modelfile.json', 'w+') as f:\n",
    "    json.dump(json.loads(resp.content), f)"
   ]
  },
  {
   "cell_type": "code",
   "execution_count": null,
   "metadata": {},
   "outputs": [],
   "source": [
    "# Dump the modulefile to a importable text file\n"
   ]
  }
 ],
 "metadata": {
  "kernelspec": {
   "display_name": ".venv",
   "language": "python",
   "name": "python3"
  },
  "language_info": {
   "codemirror_mode": {
    "name": "ipython",
    "version": 3
   },
   "file_extension": ".py",
   "mimetype": "text/x-python",
   "name": "python",
   "nbconvert_exporter": "python",
   "pygments_lexer": "ipython3",
   "version": "3.11.9"
  }
 },
 "nbformat": 4,
 "nbformat_minor": 2
}
