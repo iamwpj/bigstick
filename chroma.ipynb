{
 "cells": [
  {
   "cell_type": "markdown",
   "metadata": {},
   "source": [
    "# Implement Chroma DB\n",
    "This might be an efficient way to stash documents and select them for the AI to analyze.\n",
    "\n",
    "* https://docs.trychroma.com/getting-started"
   ]
  },
  {
   "cell_type": "code",
   "execution_count": null,
   "metadata": {},
   "outputs": [],
   "source": [
    "%pip install chromadb\n",
    "%pip freeze > requirements.txt"
   ]
  },
  {
   "cell_type": "code",
   "execution_count": 1,
   "metadata": {},
   "outputs": [],
   "source": [
    "import chromadb\n",
    "import json\n",
    "\n",
    "chroma_client = chromadb.PersistentClient(path=\"llama-data/embeddings/chroma\")"
   ]
  },
  {
   "cell_type": "code",
   "execution_count": 26,
   "metadata": {},
   "outputs": [],
   "source": [
    "raw = open(\"./llama-data/data/apache_logs/4.txt\").read().strip().split(\"\\n\")\n",
    "\n",
    "#  https://www.geeksforgeeks.org/break-list-chunks-size-n-python/\n",
    "chunk = 10\n",
    "all_documents = [\n",
    "    ((x * chunk) // chunk, raw[x * chunk : (x + 1) * chunk])\n",
    "    for x in range((len(raw) + chunk - 1) // chunk)\n",
    "]\n",
    "\n",
    "for index, documents in all_documents:\n",
    "    chroma_client.delete_collection(name=f\"vec-{index}\")\n",
    "    collection = chroma_client.get_or_create_collection(name=f\"vec-{index}\")\n",
    "\n",
    "    ids = range(len(documents), len(documents) * 2)\n",
    "    collection.add(documents=documents, ids=[f\"id-{x+1}\" for x in ids])"
   ]
  },
  {
   "cell_type": "code",
   "execution_count": 28,
   "metadata": {},
   "outputs": [
    {
     "name": "stdout",
     "output_type": "stream",
     "text": [
      "Index: 1/1, Iteration: 1/5\n",
      "Filtering: 46.105.14.53 - ...\n",
      "Filtering: 93.164.60.142 -...\n",
      "Index: 1/1, Iteration: 2/5\n",
      "Filtering: 86.182.52.145 -...\n",
      "Filtering: 108.32.74.68 - ...\n",
      "Index: 1/1, Iteration: 3/5\n",
      "Filtering: 86.182.52.145 -...\n",
      "Filtering: 86.182.52.145 -...\n",
      "Index: 1/1, Iteration: 4/5\n",
      "Filtering: 86.182.52.145 -...\n",
      "Filtering: 86.182.52.145 -...\n",
      "Index: 1/1, Iteration: 5/5\n",
      "Filtering: 86.182.52.145 -...\n",
      "Filtering: 108.32.74.68 - ...\n",
      "[\n",
      "    \"86.182.52.145 - - [17/May/2015:12:05:10 +0000] \\\"GET /images/jordan-80.png HTTP/1.1\\\" 200 6146 \\\"http://www.semicomplete.com/articles/dynamic-dns-with-dhcp/\\\" \\\"Mozilla/5.0 (Windows NT 6.3; WOW64) AppleWebKit/537.36 (KHTML, like Gecko) Chrome/32.0.1700.107 Safari/537.36\\\"\",\n",
      "    \"108.32.74.68 - - [17/May/2015:12:05:42 +0000] \\\"GET /files/xdotool/docs HTTP/1.1\\\" 301 341 \\\"http://www.semicomplete.com/projects/xdotool/\\\" \\\"Mozilla/5.0 (X11; Linux x86_64) AppleWebKit/537.36 (KHTML, like Gecko) Ubuntu Chromium/32.0.1700.102 Chrome/32.0.1700.102 Safari/537.36\\\"\"\n",
      "]\n"
     ]
    }
   ],
   "source": [
    "results = []\n",
    "anomaly_count = 2\n",
    "\n",
    "for index, _ in all_documents:\n",
    "    collection = chroma_client.get_collection(name=f\"vec-{index}\")\n",
    "    document_count = len(collection.get()[\"ids\"])\n",
    "    iterations = round(document_count / anomaly_count)\n",
    "    filter_out = []\n",
    "    query = \"*\"\n",
    "\n",
    "    for i in range(iterations):\n",
    "        print(f\"Index: {index+1}/{len(all_documents)}, Iteration: {i+1}/{iterations}\")\n",
    "\n",
    "        if len(filter_out) == 0:\n",
    "            result = collection.query(\n",
    "                query_texts=[query],\n",
    "                n_results=anomaly_count,\n",
    "            )\n",
    "        \n",
    "        else:\n",
    "            exclusions = {\"$and\": [{\"$not_contains\": x} for x in filter_out]}\n",
    "            result = collection.query(\n",
    "                query_texts=[query],\n",
    "                n_results=anomaly_count,\n",
    "                where_document=exclusions,\n",
    "            )\n",
    "            \n",
    "        query = result[\"documents\"][0][0]\n",
    "        [print(f\"Filtering: {x[:15]}...\") for x in result[\"documents\"][0]]\n",
    "        [filter_out.append(x) for x in result[\"documents\"][0]]\n",
    "        \n",
    "        # This will be overwritten each round except at the end.\n",
    "        results = result[\"documents\"][0]\n",
    "\n",
    "\n",
    "print(json.dumps(results, indent=4))"
   ]
  }
 ],
 "metadata": {
  "kernelspec": {
   "display_name": "Python 3 (ipykernel)",
   "language": "python",
   "name": "python3"
  },
  "language_info": {
   "codemirror_mode": {
    "name": "ipython",
    "version": 3
   },
   "file_extension": ".py",
   "mimetype": "text/x-python",
   "name": "python",
   "nbconvert_exporter": "python",
   "pygments_lexer": "ipython3",
   "version": "3.11.9"
  }
 },
 "nbformat": 4,
 "nbformat_minor": 2
}
