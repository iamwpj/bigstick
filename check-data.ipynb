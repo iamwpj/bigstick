{
 "cells": [
  {
   "cell_type": "markdown",
   "metadata": {},
   "source": [
    "# Check Data\n",
    "\n",
    "This is a set of quick functions to generate simple dummy datasets. These will be used to adjust and \"check\" the AI anomaly detection's reliability. Once generated, they will be tested in numerous validation runs."
   ]
  },
  {
   "cell_type": "markdown",
   "metadata": {},
   "source": [
    "## Very Standard 1-dimensional Array"
   ]
  },
  {
   "cell_type": "code",
   "execution_count": 1,
   "metadata": {},
   "outputs": [
    {
     "name": "stdout",
     "output_type": "stream",
     "text": [
      "{\n",
      "    \"A\": 0,\n",
      "    \"B\": 0,\n",
      "    \"C\": 0,\n",
      "    \"D\": 0,\n",
      "    \"E\": 0,\n",
      "    \"F\": 1,\n",
      "    \"G\": 0,\n",
      "    \"H\": 0,\n",
      "    \"I\": 0,\n",
      "    \"J\": 0,\n",
      "    \"K\": 0,\n",
      "    \"L\": 0,\n",
      "    \"M\": 0,\n",
      "    \"N\": 0,\n",
      "    \"O\": 0,\n",
      "    \"P\": 0,\n",
      "    \"Q\": 0,\n",
      "    \"R\": 0,\n",
      "    \"S\": 0,\n",
      "    \"T\": 0,\n",
      "    \"U\": 0,\n",
      "    \"V\": 0,\n",
      "    \"W\": 0,\n",
      "    \"X\": 0,\n",
      "    \"Y\": 0,\n",
      "    \"Z\": 0\n",
      "}\n"
     ]
    }
   ],
   "source": [
    "from string import ascii_uppercase as ABC\n",
    "import json\n",
    "\n",
    "result = {}\n",
    "for letter in ABC:\n",
    "    result[letter] = 0\n",
    "    \n",
    "result['F'] = 1\n",
    "\n",
    "print(json.dumps(result,indent=4))"
   ]
  },
  {
   "cell_type": "markdown",
   "metadata": {},
   "source": [
    "_Let's check this a few times._"
   ]
  },
  {
   "cell_type": "code",
   "execution_count": 7,
   "metadata": {},
   "outputs": [],
   "source": [
    "from bigstick import LoadedModel as lm\n",
    "import json\n",
    "\n",
    "trials = 100\n",
    "results = {}\n",
    "\n",
    "for i in range(1,trials):\n",
    "    resp = lm(json_mode=True, base_url=\"http://g005:11434\").Simple(\n",
    "        query=f\"\"\"\n",
    "        Find any anomalies in this data: {json.dumps(result)}.\n",
    "        Respond only with JSON containing the following keys and values:\n",
    "            - \"rank\": <the rank you assigned to the anomaly>,\n",
    "            - \"line\": <the line number of the data>,\n",
    "            - \"data\": <the relevant data>,\n",
    "            - \"explanation: <the explanation for your choice>\n",
    "        \"\"\"\n",
    "    )\n",
    "\n",
    "    results[i] = resp\n",
    "\n",
    "print(json.dumps(results,indent=4))"
   ]
  }
 ],
 "metadata": {
  "kernelspec": {
   "display_name": "Python 3 (ipykernel)",
   "language": "python",
   "name": "python3"
  },
  "language_info": {
   "codemirror_mode": {
    "name": "ipython",
    "version": 3
   },
   "file_extension": ".py",
   "mimetype": "text/x-python",
   "name": "python",
   "nbconvert_exporter": "python",
   "pygments_lexer": "ipython3",
   "version": "3.11.9"
  }
 },
 "nbformat": 4,
 "nbformat_minor": 2
}
